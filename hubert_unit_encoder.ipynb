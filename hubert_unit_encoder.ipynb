{
 "cells": [
  {
   "cell_type": "code",
   "execution_count": 1,
   "metadata": {},
   "outputs": [],
   "source": [
    "import argparse\n",
    "import logging\n",
    "import numpy as np\n",
    "from pathlib import Path\n",
    "from tqdm import tqdm\n",
    "\n",
    "import torch\n",
    "import torchaudio\n",
    "from torchaudio.functional import resample\n",
    "from tqdm import tqdm"
   ]
  },
  {
   "cell_type": "code",
   "execution_count": 2,
   "metadata": {},
   "outputs": [
    {
     "name": "stderr",
     "output_type": "stream",
     "text": [
      "/home/akorolev/.local/lib/python3.9/site-packages/torch/hub.py:266: UserWarning: You are about to download and run code from an untrusted repository. In a future release, this won't be allowed. To add the repository to your trusted list, change the command to {calling_fn}(..., trust_repo=False) and a command prompt will appear asking for an explicit confirmation of trust, or load(..., trust_repo=True), which will assume that the prompt is to be answered with 'yes'. You can also use load(..., trust_repo='check') which will only prompt for confirmation if the repo is not already trusted. This will eventually be the default behaviour\n",
      "  warnings.warn(\n",
      "Downloading: \"https://github.com/bshall/hubert/zipball/main\" to /home/akorolev/.cache/torch/hub/main.zip\n",
      "Downloading: \"https://github.com/bshall/hubert/releases/download/v0.1/hubert-soft-0d54a1f4.pt\" to /home/akorolev/.cache/torch/hub/checkpoints/hubert-soft-0d54a1f4.pt\n"
     ]
    },
    {
     "data": {
      "application/vnd.jupyter.widget-view+json": {
       "model_id": "bb2a5f0ead0a47e3b9a32e89603b517f",
       "version_major": 2,
       "version_minor": 0
      },
      "text/plain": [
       "  0%|          | 0.00/361M [00:00<?, ?B/s]"
      ]
     },
     "metadata": {},
     "output_type": "display_data"
    }
   ],
   "source": [
    "hubert = torch.hub.load(\"bshall/hubert:main\", f\"hubert_soft\").cuda()"
   ]
  },
  {
   "cell_type": "code",
   "execution_count": 4,
   "metadata": {},
   "outputs": [
    {
     "name": "stderr",
     "output_type": "stream",
     "text": [
      "100%|██████████| 264390/264390 [8:45:40<00:00,  8.38it/s]   \n"
     ]
    }
   ],
   "source": [
    "filelist = [\n",
    "        \"/home/akorolev/master/projects/vits-emotts/filelists/emotional_train.txt\",\n",
    "        \"/home/akorolev/master/projects/vits-emotts/filelists/deepph_train_de.txt_cleaned\",\n",
    "        \"/home/akorolev/master/projects/vits-emotts/filelists/deepph_train_en.txt_cleaned\",\n",
    "        \"/home/akorolev/master/projects/vits-emotts/filelists/deepph_train_pl.txt_cleaned\",\n",
    "        \"/home/akorolev/master/projects/vits-emotts/filelists/deepph_train_de_kcd.txt_cleaned\",\n",
    "        \"/home/akorolev/master/projects/vits-emotts/filelists/deepph_test.txt_cleaned\"\n",
    "    ]\n",
    "\n",
    "all_paths = []\n",
    "\n",
    "for f in filelist:\n",
    "    with open(f, \"r\") as rf:\n",
    "        for line in rf:\n",
    "            audiofile = line.split(\"|\")[0]\n",
    "            all_paths.append(audiofile)\n",
    "\n",
    "\n",
    "for in_path in tqdm(all_paths):\n",
    "    wav, sr = torchaudio.load(in_path)\n",
    "    wav = resample(wav, sr, 16000)\n",
    "    wav = wav.unsqueeze(0).cuda()\n",
    "\n",
    "    with torch.inference_mode():\n",
    "        units = hubert.units(wav)\n",
    "\n",
    "    np.save(in_path.replace(\".wav\", \".hubert.npy\"), units.squeeze().cpu().numpy())"
   ]
  }
 ],
 "metadata": {
  "kernelspec": {
   "display_name": "python3.9-kernel",
   "language": "python",
   "name": "python3.9-kernel"
  },
  "language_info": {
   "codemirror_mode": {
    "name": "ipython",
    "version": 3
   },
   "file_extension": ".py",
   "mimetype": "text/x-python",
   "name": "python",
   "nbconvert_exporter": "python",
   "pygments_lexer": "ipython3",
   "version": "3.9.9"
  },
  "orig_nbformat": 4,
  "vscode": {
   "interpreter": {
    "hash": "31f2aee4e71d21fbe5cf8b01ff0e069b9275f58929596ceb00d14d90e3e16cd6"
   }
  }
 },
 "nbformat": 4,
 "nbformat_minor": 2
}
